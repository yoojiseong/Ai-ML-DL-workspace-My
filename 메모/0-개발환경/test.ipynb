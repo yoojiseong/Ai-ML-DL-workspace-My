{
 "cells": [
  {
   "cell_type": "code",
   "id": "initial_id",
   "metadata": {
    "collapsed": true,
    "ExecuteTime": {
     "end_time": "2025-10-01T02:16:54.446771Z",
     "start_time": "2025-10-01T02:16:52.301093Z"
    }
   },
   "source": [
    "import torch\n",
    "print(torch.__version__)  # 설치된 PyTorch 버전 출력\n",
    "print(torch.cuda.is_available())  # CUDA 사용 가능 여부 확인\n",
    "\n",
    "if torch.cuda.is_available():\n",
    "    print(f\"GPU 사용 가능: {torch.cuda.get_device_name(0)}\")\n",
    "else:\n",
    "    print(\"GPU를 사용할 수 없습니다. CPU를 사용합니다.\")\n",
    "\n",
    "x = torch.rand(3, 3)\n",
    "y = torch.rand(3, 3)\n",
    "z = x + y\n",
    "print(\"x:\", x)\n",
    "print(\"y:\", y)\n",
    "print(\"z:\", z)"
   ],
   "outputs": [
    {
     "name": "stdout",
     "output_type": "stream",
     "text": [
      "2.8.0+cpu\n",
      "False\n",
      "GPU를 사용할 수 없습니다. CPU를 사용합니다.\n",
      "x: tensor([[0.8983, 0.5563, 0.8469],\n",
      "        [0.9290, 0.5762, 0.0195],\n",
      "        [0.5579, 0.9740, 0.6992]])\n",
      "y: tensor([[0.9512, 0.2876, 0.4320],\n",
      "        [0.5015, 0.2227, 0.0148],\n",
      "        [0.7606, 0.1543, 0.9811]])\n",
      "z: tensor([[1.8495, 0.8438, 1.2790],\n",
      "        [1.4305, 0.7989, 0.0343],\n",
      "        [1.3186, 1.1283, 1.6803]])\n"
     ]
    }
   ],
   "execution_count": 1
  },
  {
   "metadata": {
    "ExecuteTime": {
     "end_time": "2025-09-30T05:32:46.635510Z",
     "start_time": "2025-09-30T05:32:46.627237Z"
    }
   },
   "cell_type": "code",
   "source": [
    "x = torch.ones(3, 3)  # 기존 텐서\n",
    "print(x)\n",
    "rand_tensor = torch.randint_like(x, 0, 10)  # 기존 크기 유지, 0~9 정수 샘플링\n",
    "\n",
    "print(rand_tensor)"
   ],
   "id": "13a878988186a04f",
   "outputs": [
    {
     "name": "stdout",
     "output_type": "stream",
     "text": [
      "tensor([[1., 1., 1.],\n",
      "        [1., 1., 1.],\n",
      "        [1., 1., 1.]])\n",
      "tensor([[2., 8., 4.],\n",
      "        [2., 7., 9.],\n",
      "        [9., 8., 5.]])\n"
     ]
    }
   ],
   "execution_count": 7
  },
  {
   "metadata": {
    "ExecuteTime": {
     "end_time": "2025-09-30T05:35:58.069691Z",
     "start_time": "2025-09-30T05:35:58.046485Z"
    }
   },
   "cell_type": "code",
   "source": [
    "mean = torch.tensor([0.0, 2.0, 4.0])  # 평균\n",
    "std = torch.tensor([1.0, 0.5, 0.1])  # 표준편차\n",
    "\n",
    "tensor = torch.normal(mean, std)  # 각 요소별로 지정한 평균과 표준편차 적용\n",
    "\n",
    "print(tensor)"
   ],
   "id": "2f15767e4cfb29bd",
   "outputs": [
    {
     "name": "stdout",
     "output_type": "stream",
     "text": [
      "tensor([0.0166, 1.7078, 3.8933])\n"
     ]
    }
   ],
   "execution_count": 8
  },
  {
   "metadata": {
    "ExecuteTime": {
     "end_time": "2025-09-30T05:36:09.981025Z",
     "start_time": "2025-09-30T05:36:09.966401Z"
    }
   },
   "cell_type": "code",
   "source": [
    "tensor = torch.randperm(10)  # 0~9 정수를 무작위 섞기\n",
    "print(tensor)\n"
   ],
   "id": "2087abc19a966a37",
   "outputs": [
    {
     "name": "stdout",
     "output_type": "stream",
     "text": [
      "tensor([5, 0, 2, 1, 3, 6, 9, 7, 8, 4])\n"
     ]
    }
   ],
   "execution_count": 9
  },
  {
   "metadata": {
    "ExecuteTime": {
     "end_time": "2025-09-30T05:37:32.648998Z",
     "start_time": "2025-09-30T05:37:32.644044Z"
    }
   },
   "cell_type": "code",
   "source": [
    "probs = torch.tensor([0.2, 0.8, 0.5, 0.9])  # 0~1 사이 확률값\n",
    "\n",
    "tensor = torch.bernoulli(probs)  # 각 확률에 따라 0 또는 1 생성\n",
    "\n",
    "print(tensor)"
   ],
   "id": "7c3da65daa453ab6",
   "outputs": [
    {
     "name": "stdout",
     "output_type": "stream",
     "text": [
      "tensor([0., 1., 0., 1.])\n"
     ]
    }
   ],
   "execution_count": 20
  },
  {
   "metadata": {
    "ExecuteTime": {
     "end_time": "2025-09-30T05:53:53.685462Z",
     "start_time": "2025-09-30T05:53:53.680859Z"
    }
   },
   "cell_type": "code",
   "source": [
    "probs = torch.tensor([0.1, 0.2, 0.3, 0.4])  # 각 요소의 선택 확률\n",
    "tensor = torch.multinomial(probs, 2, replacement=True)  # 2개 선택 (복원 추출)\n",
    "print(tensor)"
   ],
   "id": "6e26c099d774923",
   "outputs": [
    {
     "name": "stdout",
     "output_type": "stream",
     "text": [
      "tensor([3, 3])\n"
     ]
    }
   ],
   "execution_count": 26
  },
  {
   "metadata": {
    "ExecuteTime": {
     "end_time": "2025-09-30T05:54:48.649737Z",
     "start_time": "2025-09-30T05:54:48.642951Z"
    }
   },
   "cell_type": "code",
   "source": [
    "torch.manual_seed(41)  # 시드 고정\n",
    "print(torch.rand(3, 3))  # 동일한 난수 생성"
   ],
   "id": "1129df7f8da88032",
   "outputs": [
    {
     "name": "stdout",
     "output_type": "stream",
     "text": [
      "tensor([[0.2364, 0.2266, 0.8005],\n",
      "        [0.1692, 0.2650, 0.7720],\n",
      "        [0.1282, 0.7452, 0.8045]])\n"
     ]
    }
   ],
   "execution_count": 32
  },
  {
   "metadata": {
    "ExecuteTime": {
     "end_time": "2025-09-30T05:57:14.798823Z",
     "start_time": "2025-09-30T05:57:14.784077Z"
    }
   },
   "cell_type": "code",
   "source": [
    "import torch\n",
    "\n",
    "# 기존 텐서\n",
    "x = torch.tensor([1, 2, 3], dtype=torch.float32)\n",
    "\n",
    "# 일반 연산 (새로운 텐서 반환)\n",
    "y = x + 10\n",
    "print(\"x (원본):\", x)  # 원본 텐서 변경 없음\n",
    "print(\"y (새로운 텐서):\", y)  # 새로운 텐서 생성됨\n",
    "\n",
    "# 인플레이스 연산\n",
    "x.add_(10)\n",
    "print(\"x (인플레이스 연산 후):\", x)  # 기존 텐서가 변경됨"
   ],
   "id": "9bc6c023abe1af86",
   "outputs": [
    {
     "name": "stdout",
     "output_type": "stream",
     "text": [
      "x (원본): tensor([1., 2., 3.])\n",
      "y (새로운 텐서): tensor([11., 12., 13.])\n",
      "x (인플레이스 연산 후): tensor([11., 12., 13.])\n"
     ]
    }
   ],
   "execution_count": 33
  },
  {
   "metadata": {
    "ExecuteTime": {
     "end_time": "2025-09-30T06:04:54.631776Z",
     "start_time": "2025-09-30T06:04:54.618595Z"
    }
   },
   "cell_type": "code",
   "source": [
    "import torch\n",
    "\n",
    "x = torch.arange(6)  # 1D 텐서 (0~5)\n",
    "print(\"Original Shape:\", x.shape)\n",
    "\n",
    "xreshaped = x.view(2, 3)  # 2행 3열로 변경\n",
    "\n",
    "print(\"Reshaped Shape:\", xreshaped.shape)\n",
    "print(xreshaped)"
   ],
   "id": "29b71aa1f3413314",
   "outputs": [
    {
     "name": "stdout",
     "output_type": "stream",
     "text": [
      "Original Shape: torch.Size([6])\n",
      "Reshaped Shape: torch.Size([2, 3])\n",
      "tensor([[0, 1, 2],\n",
      "        [3, 4, 5]])\n"
     ]
    }
   ],
   "execution_count": 34
  },
  {
   "metadata": {
    "ExecuteTime": {
     "end_time": "2025-09-30T06:07:54.559081Z",
     "start_time": "2025-09-30T06:07:54.553604Z"
    }
   },
   "cell_type": "code",
   "source": [
    "x = torch.arange(24).view(2, 3, 4)  # 3D 텐서 생성 (배치=2, 행=3, 열=4)\n",
    "\n",
    "print(\"3D Tensor Shape:\", x.shape)\n",
    "\n",
    "xflattened = x.view(2, -1)  # 배치 유지, 나머지는 자동 조정\n",
    "print(\"Flattened Shape:\", xflattened.shape)"
   ],
   "id": "5acc0359da41dc3c",
   "outputs": [
    {
     "name": "stdout",
     "output_type": "stream",
     "text": [
      "3D Tensor Shape: torch.Size([2, 3, 4])\n",
      "Flattened Shape: torch.Size([2, 12])\n"
     ]
    }
   ],
   "execution_count": 35
  },
  {
   "metadata": {
    "ExecuteTime": {
     "end_time": "2025-09-30T06:14:13.593514Z",
     "start_time": "2025-09-30T06:14:13.581453Z"
    }
   },
   "cell_type": "code",
   "source": [
    "import torch\n",
    "\n",
    "x = torch.randn(1, 3, 1, 4)  # (Batch=1, Channels=3, Height=1, Width=4)\n",
    "\n",
    "x_squeezed = x.squeeze()  # 크기가 1인 차원을 제거\n",
    "\n",
    "print(x.shape)          # torch.Size([1, 3, 1, 4])\n",
    "print(x_squeezed.shape) # torch.Size([3, 4])"
   ],
   "id": "3b8d430dc40e27df",
   "outputs": [
    {
     "name": "stdout",
     "output_type": "stream",
     "text": [
      "torch.Size([1, 3, 1, 4])\n",
      "torch.Size([3, 4])\n"
     ]
    }
   ],
   "execution_count": 36
  },
  {
   "metadata": {
    "ExecuteTime": {
     "end_time": "2025-09-30T06:17:30.303537Z",
     "start_time": "2025-09-30T06:17:30.298302Z"
    }
   },
   "cell_type": "code",
   "source": [
    "y = torch.randn(3, 4)  # (3, 4) 형태\n",
    "y_unsqueezed = y.unsqueeze(2)  # 0번 차원 추가\n",
    "\n",
    "print(y.shape)           # torch.Size([3, 4])\n",
    "print(y_unsqueezed.shape) # torch.Size([1, 3, 4])"
   ],
   "id": "193108f0a404b7a",
   "outputs": [
    {
     "name": "stdout",
     "output_type": "stream",
     "text": [
      "torch.Size([3, 4])\n",
      "torch.Size([3, 4, 1])\n"
     ]
    }
   ],
   "execution_count": 38
  }
 ],
 "metadata": {
  "kernelspec": {
   "display_name": "Python 3",
   "language": "python",
   "name": "python3"
  },
  "language_info": {
   "codemirror_mode": {
    "name": "ipython",
    "version": 2
   },
   "file_extension": ".py",
   "mimetype": "text/x-python",
   "name": "python",
   "nbconvert_exporter": "python",
   "pygments_lexer": "ipython2",
   "version": "2.7.6"
  }
 },
 "nbformat": 4,
 "nbformat_minor": 5
}
