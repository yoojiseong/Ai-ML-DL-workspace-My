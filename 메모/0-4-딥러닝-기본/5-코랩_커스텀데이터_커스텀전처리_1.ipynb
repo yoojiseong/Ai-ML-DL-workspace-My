{
 "nbformat": 4,
 "nbformat_minor": 0,
 "metadata": {
  "colab": {
   "provenance": []
  },
  "kernelspec": {
   "name": "python3",
   "display_name": "Python 3 (ipykernel)",
   "language": "python"
  },
  "language_info": {
   "name": "python"
  }
 },
 "cells": [
  {
   "cell_type": "code",
   "metadata": {
    "id": "C_Ali9n0wFPw",
    "ExecuteTime": {
     "end_time": "2025-03-17T06:20:43.196925Z",
     "start_time": "2025-03-17T06:20:38.728896Z"
    }
   },
   "source": [
    "import torch\n",
    "import torchvision.transforms as tr # 이미지 전처리 기능들을 제공하는 라이브러리\n",
    "from torch.utils.data import DataLoader, Dataset # 데이터를 모델에 사용할 수 있도록 정리해 주는 라이브러리\n",
    "import numpy as np # 넘파이 기본 라이브러리\n",
    "import matplotlib.pyplot as plt"
   ],
   "outputs": [],
   "execution_count": 1
  },
  {
   "cell_type": "code",
   "source": [
    "# 32x32 컬러 이미지와 라벨이 각각 100장이 있다고 가정하다.\n",
    "# glob -> PIL, openCV ..\n",
    "train_images = np.random.randint(256,size=(100,32,32,3))/255 # (이미지 수)x(너비)x(높이)x(채널 수)\n",
    "train_labels = np.random.randint(2,size=(100,1)) # 라벨 수"
   ],
   "metadata": {
    "id": "G-4CzxVDwKyZ",
    "ExecuteTime": {
     "end_time": "2025-03-17T06:20:43.212533Z",
     "start_time": "2025-03-17T06:20:43.201897Z"
    }
   },
   "outputs": [],
   "execution_count": 2
  },
  {
   "cell_type": "code",
   "source": [
    "# 전처리 기술을 직접 만들어 보자.\n",
    "# 이 때 위 기본 양식과 같이 사용하기 위해 call 함수를 사용한다.\n",
    "# def __call__ 내의 원하는 전처리 작업을 프로그래밍 할 수 있다.\n",
    "\n",
    "# 1. 텐서 변환\n",
    "class ToTensor:\n",
    "    def __call__(self, sample):\n",
    "        inputs, labels = sample\n",
    "        inputs = torch.FloatTensor(inputs) # 텐서로 변환\n",
    "        inputs = inputs.permute(2,0,1) # 크기 변환\n",
    "        return inputs, torch.LongTensor(labels) # 텐서로 변환\n",
    "\n",
    "# 2. 선형식\n",
    "class LinearTensor:\n",
    "\n",
    "    def __init__(self, slope=1, bias=0):\n",
    "        self.slope = slope\n",
    "        self.bias = bias\n",
    "\n",
    "    def __call__(self, sample):\n",
    "        inputs, labels = sample\n",
    "        inputs = self.slope*inputs + self.bias # ax+b 계산하기\n",
    "        return inputs, labels\n",
    "\n",
    "# 2. CutOut\n",
    "class CutOut:\n",
    "\n",
    "    def __init__(self, ratio=.5):\n",
    "        self.ratio = int(1/ratio)\n",
    "\n",
    "    def __call__(self, sample):\n",
    "        inputs, labels = sample\n",
    "        active = int(np.random.randint(0, self.ratio, 1))\n",
    "\n",
    "# 노이즈의 크기를 지정\n",
    "        if active == 0:\n",
    "            _, w, h = inputs.size()\n",
    "            min_len = min(w, h)\n",
    "            box_size = int(min_len//4)\n",
    "            idx = int(np.random.randint(0, min_len-box_size, 1))\n",
    "            inputs[:,idx:idx+box_size,idx:idx+box_size] = 0\n",
    "\n",
    "        return inputs, labels"
   ],
   "metadata": {
    "id": "lPeNs6uwwK6J",
    "ExecuteTime": {
     "end_time": "2025-03-17T06:20:43.752536Z",
     "start_time": "2025-03-17T06:20:43.738534Z"
    }
   },
   "outputs": [],
   "execution_count": 3
  },
  {
   "cell_type": "code",
   "source": [
    "# 3.3에서 사용한 양식을 그대로 사용하되 전처리 작업을 할 수 있도록 transform을 추가한다.\n",
    "class MyDataset(Dataset):\n",
    "\n",
    "    def __init__(self, x_data, y_data, transform=None):\n",
    "\n",
    "        self.x_data = x_data # 넘파이 배열이 들어온다.\n",
    "        self.y_data = y_data # 넘파이 배열이 들어온다.\n",
    "        self.transform = transform\n",
    "        self.len = len(y_data)\n",
    "        self.tensor = ToTensor()\n",
    "\n",
    "    def __getitem__(self, index):\n",
    "        sample = self.x_data[index], self.y_data[index]\n",
    "\n",
    "        if self.transform:\n",
    "            sample = self.transform(sample) #self.transform이 None이 아니라면 전처리를 작업한다.\n",
    "        else:\n",
    "            sample = self.tensor(sample)\n",
    "\n",
    "        return sample\n",
    "\n",
    "    def __len__(self):\n",
    "        return self.len"
   ],
   "metadata": {
    "id": "fn37WtZTwLCZ",
    "ExecuteTime": {
     "end_time": "2025-03-17T06:20:43.784445Z",
     "start_time": "2025-03-17T06:20:43.770534Z"
    }
   },
   "outputs": [],
   "execution_count": 4
  },
  {
   "cell_type": "code",
   "source": [
    "#trans = tr.Compose([ToTensor(),LinearTensor(2,5)]) # 텐서 변환 후 선형식 2x+5 연산\n",
    "trans = tr.Compose([ToTensor(),CutOut()])\n",
    "dataset1 = MyDataset(train_images,train_labels, transform=trans)\n",
    "train_loader1 = DataLoader(dataset1, batch_size=10, shuffle=True)\n",
    "\n",
    "# ToTensor()와 tr.ToTensor()의 차이\n",
    "# 앞 서 사용한 tr.ToTensor()는 import torchvision.transforms as tr를 이용한 파이토치 메소드를 이용한 것이고\n",
    "# ToTensor()는 위에서 정의 된 메소드를 사용한 것이다"
   ],
   "metadata": {
    "id": "nkvvkVjQwSlb",
    "ExecuteTime": {
     "end_time": "2025-03-17T06:20:43.814247Z",
     "start_time": "2025-03-17T06:20:43.800441Z"
    }
   },
   "outputs": [],
   "execution_count": 5
  },
  {
   "cell_type": "code",
   "source": [
    "images1, labels1 = next(iter(train_loader1))\n",
    "print(images1.size()) # 배치 및 이미지 크기 확인"
   ],
   "metadata": {
    "id": "ZKeuMQi_wUWx",
    "ExecuteTime": {
     "end_time": "2025-03-17T06:21:08.308725Z",
     "start_time": "2025-03-17T06:21:08.296724Z"
    }
   },
   "outputs": [
    {
     "name": "stdout",
     "output_type": "stream",
     "text": [
      "torch.Size([10, 3, 32, 32])\n"
     ]
    },
    {
     "name": "stderr",
     "output_type": "stream",
     "text": [
      "C:\\Users\\it\\AppData\\Local\\Temp\\ipykernel_17068\\1056076461.py:33: DeprecationWarning: Conversion of an array with ndim > 0 to a scalar is deprecated, and will error in future. Ensure you extract a single element from your array before performing this operation. (Deprecated NumPy 1.25.)\n",
      "  active = int(np.random.randint(0, self.ratio, 1))\n",
      "C:\\Users\\it\\AppData\\Local\\Temp\\ipykernel_17068\\1056076461.py:39: DeprecationWarning: Conversion of an array with ndim > 0 to a scalar is deprecated, and will error in future. Ensure you extract a single element from your array before performing this operation. (Deprecated NumPy 1.25.)\n",
      "  idx = int(np.random.randint(0, min_len-box_size, 1))\n"
     ]
    }
   ],
   "execution_count": 7
  },
  {
   "cell_type": "code",
   "source": [
    "import torchvision\n",
    "def imshow(img):\n",
    "    plt.figure(figsize=(10,100))\n",
    "    plt.imshow(img.permute(1,2,0).numpy())\n",
    "    plt.show()"
   ],
   "metadata": {
    "id": "w7XcwjjFwVsp",
    "ExecuteTime": {
     "end_time": "2025-03-17T06:21:10.994584Z",
     "start_time": "2025-03-17T06:21:10.980586Z"
    }
   },
   "outputs": [],
   "execution_count": 8
  },
  {
   "cell_type": "code",
   "source": [
    "imshow(torchvision.utils.make_grid(images1,nrow=10))"
   ],
   "metadata": {
    "id": "m2pWj-MawUd7",
    "jupyter": {
     "is_executing": true
    },
    "ExecuteTime": {
     "start_time": "2025-03-17T06:21:12.791291Z"
    }
   },
   "outputs": [],
   "execution_count": null
  },
  {
   "metadata": {},
   "cell_type": "code",
   "outputs": [],
   "execution_count": null,
   "source": ""
  }
 ]
}
